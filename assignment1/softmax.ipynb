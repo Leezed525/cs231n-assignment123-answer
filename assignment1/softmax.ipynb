{
 "cells": [
  {
   "cell_type": "code",
   "execution_count": 1,
   "id": "149d5b7e",
   "metadata": {
    "colab": {
     "base_uri": "https://localhost:8080/"
    },
    "id": "149d5b7e",
    "executionInfo": {
     "status": "ok",
     "timestamp": 1690176590523,
     "user_tz": -480,
     "elapsed": 23001,
     "user": {
      "displayName": "lee zed",
      "userId": "10327710491420007991"
     }
    },
    "outputId": "17290dd6-567d-4887-c40e-92dce344b977",
    "ExecuteTime": {
     "end_time": "2023-08-07T08:47:19.931938200Z",
     "start_time": "2023-08-07T08:47:19.840003800Z"
    }
   },
   "outputs": [],
   "source": [
    "# # This mounts your Google Drive to the Colab VM.\n",
    "# from google.colab import drive\n",
    "# drive.mount('/content/drive')\n",
    "#\n",
    "# # TODO: Enter the foldername in your Drive where you have saved the unzipped\n",
    "# # assignment folder, e.g. 'cs231n/assignments/assignment1/'\n",
    "# FOLDERNAME = 'cs231n 2023spring/assignment1/'\n",
    "# assert FOLDERNAME is not None, \"[!] Enter the foldername.\"\n",
    "#\n",
    "# # Now that we've mounted your Drive, this ensures that\n",
    "# # the Python interpreter of the Colab VM can load\n",
    "# # python files from within it.\n",
    "# import sys\n",
    "# sys.path.append('/content/drive/My Drive/{}'.format(FOLDERNAME))\n",
    "#\n",
    "# # This downloads the CIFAR-10 dataset to your Drive\n",
    "# # if it doesn't already exist.\n",
    "# %cd /content/drive/My\\ Drive/$FOLDERNAME/cs231n/datasets/\n",
    "# !bash get_datasets.sh\n",
    "# %cd /content/drive/My\\ Drive/$FOLDERNAME"
   ]
  },
  {
   "cell_type": "markdown",
   "id": "5fdfc27e",
   "metadata": {
    "tags": [
     "pdf-title"
    ],
    "id": "5fdfc27e"
   },
   "source": [
    "# Softmax exercise\n",
    "\n",
    "*Complete and hand in this completed worksheet (including its outputs and any supporting code outside of the worksheet) with your assignment submission. For more details see the [assignments page](http://vision.stanford.edu/teaching/cs231n/assignments.html) on the course website.*\n",
    "\n",
    "This exercise is analogous to the SVM exercise. You will:\n",
    "\n",
    "- implement a fully-vectorized **loss function** for the Softmax classifier\n",
    "- implement the fully-vectorized expression for its **analytic gradient**\n",
    "- **check your implementation** with numerical gradient\n",
    "- use a validation set to **tune the learning rate and regularization** strength\n",
    "- **optimize** the loss function with **SGD**\n",
    "- **visualize** the final learned weights\n"
   ]
  },
  {
   "cell_type": "code",
   "execution_count": 2,
   "id": "ca6cf2d4",
   "metadata": {
    "tags": [
     "pdf-ignore"
    ],
    "id": "ca6cf2d4",
    "executionInfo": {
     "status": "ok",
     "timestamp": 1690176602163,
     "user_tz": -480,
     "elapsed": 1764,
     "user": {
      "displayName": "lee zed",
      "userId": "10327710491420007991"
     }
    },
    "ExecuteTime": {
     "end_time": "2023-08-07T08:47:22.247992200Z",
     "start_time": "2023-08-07T08:47:19.856008Z"
    }
   },
   "outputs": [],
   "source": [
    "import random\n",
    "import numpy as np\n",
    "from cs231n.data_utils import load_CIFAR10\n",
    "import matplotlib.pyplot as plt\n",
    "\n",
    "%matplotlib inline\n",
    "plt.rcParams['figure.figsize'] = (10.0, 8.0) # set default size of plots\n",
    "plt.rcParams['image.interpolation'] = 'nearest'\n",
    "plt.rcParams['image.cmap'] = 'gray'\n",
    "\n",
    "# for auto-reloading extenrnal modules\n",
    "# see http://stackoverflow.com/questions/1907993/autoreload-of-modules-in-ipython\n",
    "%load_ext autoreload\n",
    "%autoreload 2"
   ]
  },
  {
   "cell_type": "code",
   "execution_count": 3,
   "id": "9e9bbbbe",
   "metadata": {
    "tags": [
     "pdf-ignore"
    ],
    "colab": {
     "base_uri": "https://localhost:8080/"
    },
    "id": "9e9bbbbe",
    "executionInfo": {
     "status": "ok",
     "timestamp": 1690176615330,
     "user_tz": -480,
     "elapsed": 7887,
     "user": {
      "displayName": "lee zed",
      "userId": "10327710491420007991"
     }
    },
    "outputId": "ae9a2fe3-f6ae-4b6c-a0d5-def1c91359cd",
    "ExecuteTime": {
     "end_time": "2023-08-07T08:47:25.738364500Z",
     "start_time": "2023-08-07T08:47:22.253995Z"
    }
   },
   "outputs": [
    {
     "name": "stdout",
     "output_type": "stream",
     "text": [
      "Train data shape:  (49000, 3073)\n",
      "Train labels shape:  (49000,)\n",
      "Validation data shape:  (1000, 3073)\n",
      "Validation labels shape:  (1000,)\n",
      "Test data shape:  (1000, 3073)\n",
      "Test labels shape:  (1000,)\n",
      "dev data shape:  (500, 3073)\n",
      "dev labels shape:  (500,)\n"
     ]
    }
   ],
   "source": [
    "def get_CIFAR10_data(num_training=49000, num_validation=1000, num_test=1000, num_dev=500):\n",
    "    \"\"\"\n",
    "    Load the CIFAR-10 dataset from disk and perform preprocessing to prepare\n",
    "    it for the linear classifier. These are the same steps as we used for the\n",
    "    SVM, but condensed to a single function.\n",
    "    \"\"\"\n",
    "    # Load the raw CIFAR-10 data\n",
    "    cifar10_dir = 'cs231n/datasets/cifar-10-batches-py'\n",
    "\n",
    "    # Cleaning up variables to prevent loading data multiple times (which may cause memory issue)\n",
    "    try:\n",
    "       del X_train, y_train\n",
    "       del X_test, y_test\n",
    "       print('Clear previously loaded data.')\n",
    "    except:\n",
    "       pass\n",
    "\n",
    "    X_train, y_train, X_test, y_test = load_CIFAR10(cifar10_dir)\n",
    "\n",
    "    # subsample the data\n",
    "    mask = list(range(num_training, num_training + num_validation))\n",
    "    X_val = X_train[mask]\n",
    "    y_val = y_train[mask]\n",
    "    mask = list(range(num_training))\n",
    "    X_train = X_train[mask]\n",
    "    y_train = y_train[mask]\n",
    "    mask = list(range(num_test))\n",
    "    X_test = X_test[mask]\n",
    "    y_test = y_test[mask]\n",
    "    mask = np.random.choice(num_training, num_dev, replace=False)\n",
    "    X_dev = X_train[mask]\n",
    "    y_dev = y_train[mask]\n",
    "\n",
    "    # Preprocessing: reshape the image data into rows\n",
    "    X_train = np.reshape(X_train, (X_train.shape[0], -1))\n",
    "    X_val = np.reshape(X_val, (X_val.shape[0], -1))\n",
    "    X_test = np.reshape(X_test, (X_test.shape[0], -1))\n",
    "    X_dev = np.reshape(X_dev, (X_dev.shape[0], -1))\n",
    "\n",
    "    # Normalize the data: subtract the mean image\n",
    "    mean_image = np.mean(X_train, axis = 0)\n",
    "    X_train -= mean_image\n",
    "    X_val -= mean_image\n",
    "    X_test -= mean_image\n",
    "    X_dev -= mean_image\n",
    "\n",
    "    # add bias dimension and transform into columns\n",
    "    X_train = np.hstack([X_train, np.ones((X_train.shape[0], 1))])\n",
    "    X_val = np.hstack([X_val, np.ones((X_val.shape[0], 1))])\n",
    "    X_test = np.hstack([X_test, np.ones((X_test.shape[0], 1))])\n",
    "    X_dev = np.hstack([X_dev, np.ones((X_dev.shape[0], 1))])\n",
    "\n",
    "    return X_train, y_train, X_val, y_val, X_test, y_test, X_dev, y_dev\n",
    "\n",
    "\n",
    "# Invoke the above function to get our data.\n",
    "X_train, y_train, X_val, y_val, X_test, y_test, X_dev, y_dev = get_CIFAR10_data()\n",
    "print('Train data shape: ', X_train.shape)\n",
    "print('Train labels shape: ', y_train.shape)\n",
    "print('Validation data shape: ', X_val.shape)\n",
    "print('Validation labels shape: ', y_val.shape)\n",
    "print('Test data shape: ', X_test.shape)\n",
    "print('Test labels shape: ', y_test.shape)\n",
    "print('dev data shape: ', X_dev.shape)\n",
    "print('dev labels shape: ', y_dev.shape)"
   ]
  },
  {
   "cell_type": "markdown",
   "id": "d4c3fb04",
   "metadata": {
    "id": "d4c3fb04"
   },
   "source": [
    "## Softmax Classifier\n",
    "\n",
    "Your code for this section will all be written inside `cs231n/classifiers/softmax.py`.\n"
   ]
  },
  {
   "cell_type": "code",
   "execution_count": 4,
   "id": "25f2e5e1",
   "metadata": {
    "id": "25f2e5e1",
    "colab": {
     "base_uri": "https://localhost:8080/"
    },
    "executionInfo": {
     "status": "ok",
     "timestamp": 1690181087324,
     "user_tz": -480,
     "elapsed": 406,
     "user": {
      "displayName": "lee zed",
      "userId": "10327710491420007991"
     }
    },
    "outputId": "3c6afe89-2870-46f4-9d57-30a89348ba3d",
    "ExecuteTime": {
     "end_time": "2023-08-07T08:47:26.414043Z",
     "start_time": "2023-08-07T08:47:25.739364300Z"
    }
   },
   "outputs": [
    {
     "name": "stdout",
     "output_type": "stream",
     "text": [
      "loss: 2.307747\n",
      "sanity check: 2.302585\n"
     ]
    }
   ],
   "source": [
    "# First implement the naive softmax loss function with nested loops.\n",
    "# Open the file cs231n/classifiers/softmax.py and implement the\n",
    "# softmax_loss_naive function.\n",
    "\n",
    "from cs231n.classifiers.softmax import softmax_loss_naive\n",
    "import time\n",
    "\n",
    "# Generate a random softmax weight matrix and use it to compute the loss.\n",
    "W = np.random.randn(3073, 10) * 0.0001\n",
    "loss, grad = softmax_loss_naive(W, X_dev, y_dev, 0.0)\n",
    "\n",
    "# As a rough sanity check, our loss should be something close to -log(0.1).\n",
    "print('loss: %f' % loss)\n",
    "print('sanity check: %f' % (-np.log(0.1)))"
   ]
  },
  {
   "cell_type": "markdown",
   "id": "15ebc638",
   "metadata": {
    "tags": [
     "pdf-inline"
    ],
    "id": "15ebc638"
   },
   "source": [
    "**Inline Question 1**\n",
    "\n",
    "Why do we expect our loss to be close to -log(0.1)? Explain briefly.**\n",
    "\n",
    "$\\color{blue}{\\textit Your Answer:}$ *Fill this in*\n",
    "\n"
   ]
  },
  {
   "cell_type": "code",
   "execution_count": 5,
   "id": "a8cb3eb1",
   "metadata": {
    "id": "a8cb3eb1",
    "colab": {
     "base_uri": "https://localhost:8080/"
    },
    "executionInfo": {
     "status": "ok",
     "timestamp": 1690181099236,
     "user_tz": -480,
     "elapsed": 9215,
     "user": {
      "displayName": "lee zed",
      "userId": "10327710491420007991"
     }
    },
    "outputId": "e33835cd-17e5-4c6c-cb58-10357460f8f9",
    "ExecuteTime": {
     "end_time": "2023-08-07T08:47:30.169650300Z",
     "start_time": "2023-08-07T08:47:26.416042500Z"
    }
   },
   "outputs": [
    {
     "name": "stdout",
     "output_type": "stream",
     "text": [
      "numerical: 0.850009 analytic: 0.850009, relative error: 2.434461e-08\n",
      "numerical: -0.979547 analytic: -0.979547, relative error: 8.660919e-09\n",
      "numerical: 0.128209 analytic: 0.128209, relative error: 4.344724e-07\n",
      "numerical: -1.580502 analytic: -1.580502, relative error: 2.868155e-08\n",
      "numerical: 2.202412 analytic: 2.202412, relative error: 2.879860e-08\n",
      "numerical: -1.644232 analytic: -1.644232, relative error: 4.924349e-08\n",
      "numerical: -0.466034 analytic: -0.466034, relative error: 2.646739e-09\n",
      "numerical: -2.985254 analytic: -2.985254, relative error: 9.656747e-09\n",
      "numerical: -1.338614 analytic: -1.338615, relative error: 2.223015e-08\n",
      "numerical: -0.504579 analytic: -0.504579, relative error: 3.182322e-08\n",
      "numerical: 0.906208 analytic: 0.906208, relative error: 6.725165e-08\n",
      "numerical: -2.325438 analytic: -2.325438, relative error: 1.683912e-08\n",
      "numerical: 1.413302 analytic: 1.413302, relative error: 1.724759e-09\n",
      "numerical: -0.396302 analytic: -0.396302, relative error: 1.380822e-08\n",
      "numerical: 3.050039 analytic: 3.050039, relative error: 1.133866e-09\n",
      "numerical: 0.957443 analytic: 0.957443, relative error: 2.888220e-08\n",
      "numerical: 1.121725 analytic: 1.121725, relative error: 3.323848e-08\n",
      "numerical: -1.439209 analytic: -1.439209, relative error: 2.080622e-08\n",
      "numerical: -0.266010 analytic: -0.266010, relative error: 2.826214e-09\n",
      "numerical: 2.562304 analytic: 2.562304, relative error: 8.579149e-10\n"
     ]
    }
   ],
   "source": [
    "# Complete the implementation of softmax_loss_naive and implement a (naive)\n",
    "# version of the gradient that uses nested loops.\n",
    "loss, grad = softmax_loss_naive(W, X_dev, y_dev, 0.0)\n",
    "\n",
    "# As we did for the SVM, use numeric gradient checking as a debugging tool.\n",
    "# The numeric gradient should be close to the analytic gradient.\n",
    "from cs231n.gradient_check import grad_check_sparse\n",
    "f = lambda w: softmax_loss_naive(w, X_dev, y_dev, 0.0)[0]\n",
    "grad_numerical = grad_check_sparse(f, W, grad, 10)\n",
    "\n",
    "# similar to SVM case, do another gradient check with regularization\n",
    "loss, grad = softmax_loss_naive(W, X_dev, y_dev, 5e1)\n",
    "f = lambda w: softmax_loss_naive(w, X_dev, y_dev, 5e1)[0]\n",
    "grad_numerical = grad_check_sparse(f, W, grad, 10)"
   ]
  },
  {
   "cell_type": "code",
   "execution_count": 6,
   "id": "4a4a81d4",
   "metadata": {
    "id": "4a4a81d4",
    "colab": {
     "base_uri": "https://localhost:8080/"
    },
    "executionInfo": {
     "status": "ok",
     "timestamp": 1690181101642,
     "user_tz": -480,
     "elapsed": 443,
     "user": {
      "displayName": "lee zed",
      "userId": "10327710491420007991"
     }
    },
    "outputId": "bcdfaeac-6cc1-462a-8dde-adf8bb5b837d",
    "ExecuteTime": {
     "end_time": "2023-08-07T08:47:30.374906Z",
     "start_time": "2023-08-07T08:47:30.171652500Z"
    }
   },
   "outputs": [
    {
     "name": "stdout",
     "output_type": "stream",
     "text": [
      "naive loss: 2.307747e+00 computed in 0.083031s\n",
      "vectorized loss: 2.307747e+00 computed in 0.081725s\n",
      "Loss difference: 0.000000\n",
      "Gradient difference: 0.000000\n"
     ]
    }
   ],
   "source": [
    "# Now that we have a naive implementation of the softmax loss function and its gradient,\n",
    "# implement a vectorized version in softmax_loss_vectorized.\n",
    "# The two versions should compute the same results, but the vectorized version should be\n",
    "# much faster.\n",
    "tic = time.time()\n",
    "loss_naive, grad_naive = softmax_loss_naive(W, X_dev, y_dev, 0.000005)\n",
    "toc = time.time()\n",
    "print('naive loss: %e computed in %fs' % (loss_naive, toc - tic))\n",
    "\n",
    "from cs231n.classifiers.softmax import softmax_loss_vectorized\n",
    "tic = time.time()\n",
    "loss_vectorized, grad_vectorized = softmax_loss_vectorized(W, X_dev, y_dev, 0.000005)\n",
    "toc = time.time()\n",
    "print('vectorized loss: %e computed in %fs' % (loss_vectorized, toc - tic))\n",
    "\n",
    "# As we did for the SVM, we use the Frobenius norm to compare the two versions\n",
    "# of the gradient.\n",
    "grad_difference = np.linalg.norm(grad_naive - grad_vectorized, ord='fro')\n",
    "print('Loss difference: %f' % np.abs(loss_naive - loss_vectorized))\n",
    "print('Gradient difference: %f' % grad_difference)"
   ]
  },
  {
   "cell_type": "code",
   "execution_count": 7,
   "id": "a3453536",
   "metadata": {
    "tags": [
     "code"
    ],
    "test": "tuning",
    "id": "a3453536",
    "colab": {
     "base_uri": "https://localhost:8080/"
    },
    "executionInfo": {
     "status": "ok",
     "timestamp": 1690182014171,
     "user_tz": -480,
     "elapsed": 516864,
     "user": {
      "displayName": "lee zed",
      "userId": "10327710491420007991"
     }
    },
    "outputId": "1d82bc8e-f72d-47e7-fd21-44d3c037508c",
    "ExecuteTime": {
     "end_time": "2023-08-07T08:50:46.504671600Z",
     "start_time": "2023-08-07T08:47:30.376906100Z"
    }
   },
   "outputs": [
    {
     "name": "stdout",
     "output_type": "stream",
     "text": [
      "lr 7.500000e-08 reg 3.000000e+04 train accuracy: 0.344265 val accuracy: 0.365000\n",
      "lr 7.500000e-08 reg 3.250000e+04 train accuracy: 0.343694 val accuracy: 0.346000\n",
      "lr 7.500000e-08 reg 3.500000e+04 train accuracy: 0.340286 val accuracy: 0.357000\n",
      "lr 7.500000e-08 reg 3.750000e+04 train accuracy: 0.335490 val accuracy: 0.348000\n",
      "lr 7.500000e-08 reg 4.000000e+04 train accuracy: 0.334469 val accuracy: 0.352000\n",
      "lr 7.500000e-08 reg 4.250000e+04 train accuracy: 0.335837 val accuracy: 0.352000\n",
      "lr 7.500000e-08 reg 4.500000e+04 train accuracy: 0.333571 val accuracy: 0.353000\n",
      "lr 7.500000e-08 reg 4.750000e+04 train accuracy: 0.332735 val accuracy: 0.340000\n",
      "lr 7.500000e-08 reg 5.000000e+04 train accuracy: 0.329184 val accuracy: 0.342000\n",
      "lr 1.250000e-07 reg 3.000000e+04 train accuracy: 0.343327 val accuracy: 0.355000\n",
      "lr 1.250000e-07 reg 3.250000e+04 train accuracy: 0.344469 val accuracy: 0.345000\n",
      "lr 1.250000e-07 reg 3.500000e+04 train accuracy: 0.341122 val accuracy: 0.358000\n",
      "lr 1.250000e-07 reg 3.750000e+04 train accuracy: 0.339082 val accuracy: 0.354000\n",
      "lr 1.250000e-07 reg 4.000000e+04 train accuracy: 0.334837 val accuracy: 0.343000\n",
      "lr 1.250000e-07 reg 4.250000e+04 train accuracy: 0.334306 val accuracy: 0.355000\n",
      "lr 1.250000e-07 reg 4.500000e+04 train accuracy: 0.332776 val accuracy: 0.343000\n",
      "lr 1.250000e-07 reg 4.750000e+04 train accuracy: 0.329122 val accuracy: 0.342000\n",
      "lr 1.250000e-07 reg 5.000000e+04 train accuracy: 0.332980 val accuracy: 0.348000\n",
      "lr 1.500000e-07 reg 3.000000e+04 train accuracy: 0.345000 val accuracy: 0.360000\n",
      "lr 1.500000e-07 reg 3.250000e+04 train accuracy: 0.336388 val accuracy: 0.361000\n",
      "lr 1.500000e-07 reg 3.500000e+04 train accuracy: 0.342551 val accuracy: 0.354000\n",
      "lr 1.500000e-07 reg 3.750000e+04 train accuracy: 0.344898 val accuracy: 0.359000\n",
      "lr 1.500000e-07 reg 4.000000e+04 train accuracy: 0.332122 val accuracy: 0.341000\n",
      "lr 1.500000e-07 reg 4.250000e+04 train accuracy: 0.334245 val accuracy: 0.353000\n",
      "lr 1.500000e-07 reg 4.500000e+04 train accuracy: 0.328286 val accuracy: 0.341000\n",
      "lr 1.500000e-07 reg 4.750000e+04 train accuracy: 0.331327 val accuracy: 0.344000\n",
      "lr 1.500000e-07 reg 5.000000e+04 train accuracy: 0.330204 val accuracy: 0.342000\n",
      "lr 2.000000e-07 reg 3.000000e+04 train accuracy: 0.346673 val accuracy: 0.360000\n",
      "lr 2.000000e-07 reg 3.250000e+04 train accuracy: 0.345551 val accuracy: 0.365000\n",
      "lr 2.000000e-07 reg 3.500000e+04 train accuracy: 0.343347 val accuracy: 0.356000\n",
      "lr 2.000000e-07 reg 3.750000e+04 train accuracy: 0.342612 val accuracy: 0.358000\n",
      "lr 2.000000e-07 reg 4.000000e+04 train accuracy: 0.339673 val accuracy: 0.348000\n",
      "lr 2.000000e-07 reg 4.250000e+04 train accuracy: 0.331449 val accuracy: 0.342000\n",
      "lr 2.000000e-07 reg 4.500000e+04 train accuracy: 0.331143 val accuracy: 0.342000\n",
      "lr 2.000000e-07 reg 4.750000e+04 train accuracy: 0.332592 val accuracy: 0.341000\n",
      "lr 2.000000e-07 reg 5.000000e+04 train accuracy: 0.326531 val accuracy: 0.340000\n",
      "best validation accuracy achieved during cross-validation: 0.365000\n"
     ]
    }
   ],
   "source": [
    "# Use the validation set to tune hyperparameters (regularization strength and\n",
    "# learning rate). You should experiment with different ranges for the learning\n",
    "# rates and regularization strengths; if you are careful you should be able to\n",
    "# get a classification accuracy of over 0.35 on the validation set.\n",
    "\n",
    "from cs231n.classifiers import Softmax\n",
    "results = {}\n",
    "best_val = -1\n",
    "best_softmax = None\n",
    "\n",
    "################################################################################\n",
    "# TODO:                                                                        #\n",
    "# Use the validation set to set the learning rate and regularization strength. #\n",
    "# This should be identical to the validation that you did for the SVM; save    #\n",
    "# the best trained softmax classifer in best_softmax.                          #\n",
    "################################################################################\n",
    "\n",
    "# Provided as a reference. You may or may not want to change these hyperparameters\n",
    "learning_rates = [2e-7, 0.75e-7,1.5e-7, 1.25e-7, 0.75e-7]\n",
    "regularization_strengths = [3e4, 3.25e4, 3.5e4, 3.75e4, 4e4,4.25e4, 4.5e4,4.75e4, 5e4]\n",
    "\n",
    "# *****START OF YOUR CODE (DO NOT DELETE/MODIFY THIS LINE)*****\n",
    "\n",
    "for lr in learning_rates:\n",
    "  for reg in regularization_strengths:\n",
    "    softmax = Softmax()\n",
    "    softmax.train(X_train, y_train, learning_rate=lr, reg=reg,num_iters=1500, verbose=False)\n",
    "    y_train_pred = softmax.predict(X_train)\n",
    "    y_train_accuracy = np.mean(y_train == y_train_pred)\n",
    "    y_val_pred = softmax.predict(X_val)\n",
    "    y_val_accuracy = np.mean(y_val == y_val_pred)\n",
    "    results[(lr,reg)] = (y_train_accuracy,y_val_accuracy)\n",
    "    if(y_val_accuracy > best_val):\n",
    "      best_val = y_val_accuracy\n",
    "      best_softmax = softmax\n",
    "\n",
    "# *****END OF YOUR CODE (DO NOT DELETE/MODIFY THIS LINE)*****\n",
    "\n",
    "# Print out results.\n",
    "for lr, reg in sorted(results):\n",
    "    train_accuracy, val_accuracy = results[(lr, reg)]\n",
    "    print('lr %e reg %e train accuracy: %f val accuracy: %f' % (\n",
    "                lr, reg, train_accuracy, val_accuracy))\n",
    "\n",
    "print('best validation accuracy achieved during cross-validation: %f' % best_val)"
   ]
  },
  {
   "cell_type": "code",
   "execution_count": 8,
   "id": "8a1f9db3",
   "metadata": {
    "test": "test",
    "id": "8a1f9db3",
    "colab": {
     "base_uri": "https://localhost:8080/"
    },
    "executionInfo": {
     "status": "ok",
     "timestamp": 1690183126291,
     "user_tz": -480,
     "elapsed": 412,
     "user": {
      "displayName": "lee zed",
      "userId": "10327710491420007991"
     }
    },
    "outputId": "3628f6bd-ae7a-4c30-acbe-edff8e0f1d99",
    "ExecuteTime": {
     "end_time": "2023-08-07T08:50:46.559378800Z",
     "start_time": "2023-08-07T08:50:46.504671600Z"
    }
   },
   "outputs": [
    {
     "name": "stdout",
     "output_type": "stream",
     "text": [
      "softmax on raw pixels final test set accuracy: 0.356000\n"
     ]
    }
   ],
   "source": [
    "# evaluate on test set\n",
    "# Evaluate the best softmax on test set\n",
    "y_test_pred = best_softmax.predict(X_test)\n",
    "test_accuracy = np.mean(y_test == y_test_pred)\n",
    "print('softmax on raw pixels final test set accuracy: %f' % (test_accuracy, ))"
   ]
  },
  {
   "cell_type": "markdown",
   "id": "86b9b65c",
   "metadata": {
    "tags": [
     "pdf-inline"
    ],
    "id": "86b9b65c"
   },
   "source": [
    "**Inline Question 2** - *True or False*\n",
    "\n",
    "Suppose the overall training loss is defined as the sum of the per-datapoint loss over all training examples. It is possible to add a new datapoint to a training set that would leave the SVM loss unchanged, but this is not the case with the Softmax classifier loss.\n",
    "\n",
    "$\\color{blue}{\\textit Your Answer:}$\n",
    "\n",
    "\n",
    "$\\color{blue}{\\textit Your Explanation:}$\n",
    "\n"
   ]
  },
  {
   "cell_type": "code",
   "execution_count": 9,
   "id": "009f08b9",
   "metadata": {
    "id": "009f08b9",
    "colab": {
     "base_uri": "https://localhost:8080/",
     "height": 528
    },
    "executionInfo": {
     "status": "ok",
     "timestamp": 1690183133095,
     "user_tz": -480,
     "elapsed": 1637,
     "user": {
      "displayName": "lee zed",
      "userId": "10327710491420007991"
     }
    },
    "outputId": "1ed3a0f8-9e7c-400f-b7cd-7c1a2d6a78ab",
    "ExecuteTime": {
     "end_time": "2023-08-07T08:50:47.328005200Z",
     "start_time": "2023-08-07T08:50:46.553376300Z"
    }
   },
   "outputs": [
    {
     "data": {
      "text/plain": "<Figure size 1000x800 with 10 Axes>",
      "image/png": "[encoded data removed]"
     },
     "metadata": {},
     "output_type": "display_data"
    }
   ],
   "source": [
    "# Visualize the learned weights for each class\n",
    "w = best_softmax.W[:-1,:] # strip out the bias\n",
    "w = w.reshape(32, 32, 3, 10)\n",
    "\n",
    "w_min, w_max = np.min(w), np.max(w)\n",
    "\n",
    "classes = ['plane', 'car', 'bird', 'cat', 'deer', 'dog', 'frog', 'horse', 'ship', 'truck']\n",
    "for i in range(10):\n",
    "    plt.subplot(2, 5, i + 1)\n",
    "\n",
    "    # Rescale the weights to be between 0 and 255\n",
    "    wimg = 255.0 * (w[:, :, :, i].squeeze() - w_min) / (w_max - w_min)\n",
    "    plt.imshow(wimg.astype('uint8'))\n",
    "    plt.axis('off')\n",
    "    plt.title(classes[i])"
   ]
  },
  {
   "cell_type": "code",
   "execution_count": 9,
   "id": "3569b36b",
   "metadata": {
    "id": "3569b36b",
    "ExecuteTime": {
     "end_time": "2023-08-07T08:50:47.330560500Z",
     "start_time": "2023-08-07T08:50:47.328551300Z"
    }
   },
   "outputs": [],
   "source": []
  }
 ],
 "metadata": {
  "colab": {
   "provenance": []
  },
  "language_info": {
   "name": "python"
  },
  "kernelspec": {
   "name": "python3",
   "language": "python",
   "display_name": "Python 3 (ipykernel)"
  }
 },
 "nbformat": 4,
 "nbformat_minor": 5
}
